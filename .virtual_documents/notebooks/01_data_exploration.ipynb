# Import necessary libraries
import pandas as pd
import matplotlib.pyplot as plt
import seaborn as sns

# Set plot style
sns.set_style('whitegrid')


# --- 1. Load the Datasets ---
try:
    df1 = pd.read_csv('../data/IHMStefanini_industrial_safety_and_health_database_with_accidents_description.csv')
    df2 = pd.read_csv('../data/IHMStefanini_industrial_safety_and_health_database.csv')
except FileNotFoundError:
    print("Error: Make sure the CSV files are in a 'data' subfolder in your project's root directory.")
    # Handle error or exit if files are not found
    exit()


# --- 2. Explore the Datasets Individually ---
print("--- First DataFrame (Accident Info) ---")
print(df1.head())
print("\n")
print(df1.info())
print("\n\n")

print("--- Second DataFrame (Severity Info) ---")
print(df2.head())
print("\n")
print(df2.info())


# --- 3. Merge the Datasets ---
# The two files don't have a common named column to join on, but they appear to be aligned by row.
# merge them based on their index.
# drop the 'Unnamed: 0' columns as they are just row counters.
if "Unnamed: 0" in df1.columns:
    df1 = df1.drop("Unnamed: 0", axis=1)
if "Unnamed: 0" in df2.columns:
    df2 = df2.drop("Unnamed: 0", axis=1)

# Concatenate the dataframes horizontally
df = pd.concat([df1.reset_index(drop=True), df2.reset_index(drop=True)], axis=1)


# --- 4. Initial Exploration of Merged Data ---
print("\n\n--- Merged DataFrame ---")
print(df.head())
print("\n")
print("Merged DataFrame Info:")
df.info()


# --- 1. Correcting the Data Merge ---
import pandas as pd

# Load the datasets again
try:
    df_desc = pd.read_csv('../data/IHMStefanini_industrial_safety_and_health_database_with_accidents_description.csv')
    df_labels = pd.read_csv('../data/IHMStefanini_industrial_safety_and_health_database.csv')
except FileNotFoundError:
    print("Error: Make sure the CSV files are in a 'data' subfolder in your project's root directory.")
    exit()

# From your output, it seems the label column in the second file is 'Risco Critico'.
# Let's create a new, clean DataFrame with just the columns we need.
# We'll take 'Description' from the first file and 'Risco Critico' from the second.
df = pd.DataFrame({
    'Description': df_desc['Description'],
    'Critical Risk': df_labels['Risco Critico']  # Using the column from the second file
})





# --- 2. Data Cleaning ---
print("--- Cleaned and Combined DataFrame ---")
print("Shape before cleaning:", df.shape)

# It's crucial to drop rows where either the description or the label is missing.
# This also handles the discrepancy in the number of rows between the original files.
df.dropna(subset=['Description', 'Critical Risk'], inplace=True)


# Let's also remove any rows that might have very short, unhelpful descriptions
df = df[df['Description'].str.len() > 20]

print("\nShape after cleaning:", df.shape)
print("\nCleaned DataFrame Head:")
print(df.head())



# --- Action 1.1: Data Improvement - Consolidate Labels ---

print("Original label distribution:")
print(df['Critical Risk'].value_counts())

def consolidate_labels(risk):
    # Ensure risk is a string before calling .lower()
    if not isinstance(risk, str):
        return 'Others' # Or handle as appropriate
    
    risk = risk.lower() # Normalize to lower case
    if 'fall' in risk or 'falling' in risk:
        return 'Fall Hazard'
    elif 'manual tool' in risk or 'handling' in risk or 'object' in risk:
        return 'Manual Handling/Object'
    elif 'machine' in risk or 'equipment' in risk or 'pressurized system' in risk or 'pressed' in risk:
        return 'Equipment/Machinery Hazard'
    elif 'vehicle' in risk or 'traffic' in risk:
        return 'Vehicle/Traffic Hazard'
    elif 'chemical' in risk or 'projection' in risk or 'liquid' in risk:
        return 'Chemical/Substance Hazard'
    else:
        return 'Others' # Group all remaining small categories

# Apply the mapping function to create a new, cleaner column
df['Consolidated_Risk'] = df['Critical Risk'].apply(consolidate_labels)

print("\nNew consolidated label distribution:")
print(df['Consolidated_Risk'].value_counts())



# Check for missing values to confirm our cleaning worked
print("\nMissing values after cleaning:")
print(df.isnull().sum())


import matplotlib.pyplot as plt
import seaborn as sns
sns.set_style('whitegrid')

# --- 3. Analyze the Cleaned Target Variable ---
print("\n\n--- Analysis of Cleaned 'Critical Risk' Column ---")


# Check the unique categories and their counts
print("Value Counts for 'Critical Risk':")
print(df['Critical Risk'].value_counts())

# Visualize the distribution of the 'Critical Risk' categories
plt.figure(figsize=(12, 6))
sns.countplot(y=df['Critical Risk'], order = df['Critical Risk'].value_counts().index)
plt.title('Distribution of Critical Risk Categories (Cleaned Data)')
plt.xlabel('Number of Reports')
plt.ylabel('Critical Risk Category')
plt.tight_layout()
plt.show()


from sklearn.preprocessing import LabelEncoder

# --- 4. Label Encoding ---

# Initialize the LabelEncoder
le = LabelEncoder()
df_filtered = df
# Fit the encoder on 'Critical Risk' column and transform it into numbers
df_filtered['labels'] = le.fit_transform(df_filtered['Consolidated_Risk'])


# It's very important to save the mapping from numbers back to the original labels
# We'll need this later to understand the model's predictions.
id2label = {i: label for i, label in enumerate(le.classes_)}
label2id = {label: i for i, label in enumerate(le.classes_)}

print("--- Label Encoding Complete (on Consolidated Labels) ---")
print("Mapping of Label ID to Label Name:")
print(id2label)
print("\nDataFrame with new 'labels' column:")
print(df.head())


from sklearn.preprocessing import LabelEncoder
import pandas as pd  # Import pandas if not already imported

# Assuming you have a DataFrame named 'df' that you want to work with
# If you don't have a DataFrame yet, you need to create or load one
# For example: df = pd.read_csv('your_data.csv')

# If you meant to filter the DataFrame before encoding, do that first
# For example: df_filtered = df[some_condition]
# Otherwise, just use the original DataFrame
  # Remove this line if you already have df_filtered defined elsewhere

# Initialize the LabelEncoder
le = LabelEncoder()

# Fit the encoder on 'Critical Risk' column and transform it into numbers
df_filtered['labels'] = le.fit_transform(df_filtered['Consolidated_Risk'])

# It's very important to save the mapping from numbers back to the original labels
# We'll need this later to understand the model's predictions.
id2label = {i: label for i, label in enumerate(le.classes_)}
label2id = {label: i for i, label in enumerate(le.classes_)}

print("--- Label Encoding Complete (on Consolidated Labels) ---")
print("Mapping of Label ID to Label Name:")
print(id2label)
print("\nDataFrame with new 'labels' column:")
print(df_filtered.head())  # Changed from df.head() to df_filtered.head() for consistency


from sklearn.preprocessing import LabelEncoder
import pandas as pd  # Import pandas if not already imported

# Assuming you have a DataFrame named 'df' that you want to work with
# If you don't have a DataFrame yet, you need to create or load one
# For example: df = pd.read_csv('your_data.csv')

# If you meant to filter the DataFrame before encoding, you need to do that first
# For example: df_filtered = df[some_condition]
# Otherwise, just use 'df' directly instead of 'df_filtered'

# --- 4. Label Encoding ---

# Initialize the LabelEncoder
le = LabelEncoder()

# Using 'df' instead of 'df_filtered' since df_filtered wasn't defined
# Fit the encoder on 'Critical Risk' column and transform it into numbers
df['labels'] = le.fit_transform(df['Consolidated_Risk'])  # Changed df_filtered to df

# It's very important to save the mapping from numbers back to the original labels
# We'll need this later to understand the model's predictions.
id2label = {i: label for i, label in enumerate(le.classes_)}
label2id = {label: i for i, label in enumerate(le.classes_)}

print("--- Label Encoding Complete (on Consolidated Labels) ---")
print("Mapping of Label ID to Label Name:")
print(id2label)
print("\nDataFrame with new 'labels' column:")
print(df.head())


from sklearn.model_selection import train_test_split

# --- 5. Find and Filter Rare Classes to Fix Stratification ---

# First, let's confirm which classes are causing the problem by looking at the counts
print("--- Value Counts of Each Class ---")
print(df['Critical Risk'].value_counts().sort_values())
print("\n")

# A model can't learn from a single example, so we'll remove classes with fewer than 2 members.
# Get the value counts
value_counts = df['Consolidated_Risk'].value_counts()

# Identify the class names (the index) we want to keep
to_keep = value_counts[value_counts > 1].index

# Filter the DataFrame to only include the classes we want to keep
df_filtered = df[df['Consolidated_Risk'].isin(to_keep)].copy()  # Use .copy() to avoid SettingWithCopyWarning

# re-create the 'labels' column on the newly filtered data
# to ensure everything is aligned.
from sklearn.preprocessing import LabelEncoder
le = LabelEncoder()
df_filtered['labels'] = le.fit_transform(df_filtered['Critical Risk'])

# update our label mappings
id2label = {i: label for i, label in enumerate(le.classes_)}
label2id = {label: i for i, label in enumerate(le.classes_)}


print(f"Original DataFrame shape: {df.shape}")
print(f"Filtered DataFrame shape after removing single-member classes: {df_filtered.shape}\n")


from sklearn.preprocessing import LabelEncoder
import pandas as pd  # Import pandas if not already imported

# Assuming you have a DataFrame named 'df' that you want to work with
# If you don't have a DataFrame yet, you need to create or load one
# For example: df = pd.read_csv('your_data.csv')

# If you meant to filter the DataFrame before encoding, you need to do that first
# For example: df_filtered = df[some_condition]
# Otherwise, just use 'df' directly instead of 'df_filtered'

# --- 4. Label Encoding ---

# Initialize the LabelEncoder
le = LabelEncoder()

# Using 'df' instead of 'df_filtered' since df_filtered wasn't defined
# Fit the encoder on 'Critical Risk' column and transform it into numbers
df['labels'] = le.fit_transform(df['Consolidated_Risk'])  # Changed df_filtered to df

# It's very important to save the mapping from numbers back to the original labels
# We'll need this later to understand the model's predictions.
id2label = {i: label for i, label in enumerate(le.classes_)}
label2id = {label: i for i, label in enumerate(le.classes_)}

print("--- Label Encoding Complete (on Consolidated Labels) ---")
print("Mapping of Label ID to Label Name:")
print(id2label)
print("\nDataFrame with new 'labels' column:")
print(df.head())


# --- 6. Train-Validation Split (on Filtered Data) ---
from sklearn.model_selection import train_test_split
import re

# --- Action 1.2: Data Improvement - Advanced Text Cleaning ---
def clean_text(text):
    text = text.lower() # Lowercase
    text = re.sub(r'\[.*?\]', '', text) # Remove text in brackets
    text = re.sub(r'\w*\d\w*', '', text) # Remove words containing numbers
    text = re.sub(r'[^a-zA-Z\s]', '', text) # Remove punctuation and special characters
    text = re.sub(r'\s+', ' ', text).strip() # Remove extra whitespace
    return text

# Define our features (X) and target (y)
# APPLY THE CLEANING FUNCTION TO THE DESCRIPTION COLUMN
X = df_filtered['Description'].apply(clean_text)
y = df_filtered['labels'] # This 'labels' column is now based on our consolidated risk

# Check class distribution
print("Class distribution before splitting:")
print(y.value_counts())

# Remove stratify parameter if any class has only 1 sample
if y.value_counts().min() < 2:
    X_train, X_val, y_train, y_val = train_test_split(
        X, y, test_size=0.2, random_state=42
        # stratify parameter removed
    )
    print("Using regular train_test_split without stratification due to rare classes")
else:
    X_train, X_val, y_train, y_val = train_test_split(
        X, y, test_size=0.2, random_state=42, stratify=y
    )
    print("Using stratified train_test_split")

print("--- Data Splitting Complete ---")
print("Training set shape:", X_train.shape)
print("Validation set shape:", X_val.shape)
print("Number of unique labels:", len(id2label))


# --- Combined Data Preparation for Modeling ---

# We assume 'df' is your DataFrame after loading and initial cleaning (dropna)
# and after you've run the 'consolidate_labels' function to create the 'Consolidated_Risk' column.

# 1. Find and filter rare classes based on the NEW 'Consolidated_Risk' column
print("--- Filtering Rare Classes from Consolidated Labels ---")
value_counts = df['Consolidated_Risk'].value_counts()
print("Counts before filtering:\n", value_counts.sort_values())

to_keep = value_counts[value_counts > 1].index
df_filtered = df[df['Consolidated_Risk'].isin(to_keep)].copy()

print(f"\nOriginal shape: {df.shape}")
print(f"Shape after filtering rare consolidated classes: {df_filtered.shape}\n")


# 2. Label Encoding on the now-filtered data
from sklearn.preprocessing import LabelEncoder
le = LabelEncoder()
df_filtered['labels'] = le.fit_transform(df_filtered['Consolidated_Risk'])
id2label = {i: label for i, label in enumerate(le.classes_)}
label2id = {label: i for i, label in enumerate(le.classes_)}


# 3. Advanced Text Cleaning
import re
def clean_text(text):
    text = text.lower()
    text = re.sub(r'\[.*?\]', '', text)
    text = re.sub(r'\w*\d\w*', '', text)
    text = re.sub(r'[^a-zA-Z\s]', '', text)
    text = re.sub(r'\s+', ' ', text).strip()
    return text

X = df_filtered['Description'].apply(clean_text)
y = df_filtered['labels']


# 4. Train-Test Split (This will now succeed)
from sklearn.model_selection import train_test_split
X_train, X_val, y_train, y_val = train_test_split(
    X, y, test_size=0.2, random_state=42, stratify=y
)

print("--- Data Splitting and Cleaning Complete ---")
print("Training set shape:", X_train.shape)
print("Validation set shape:", X_val.shape)
print(f"Number of unique labels for the model: {len(id2label)}")


# --- 6. Train-Validation Split (on Filtered Data) ---
from sklearn.model_selection import train_test_split
import re

# --- Action 1.2: Data Improvement - Advanced Text Cleaning ---
def clean_text(text):
    text = text.lower() # Lowercase
    text = re.sub(r'\[.*?\]', '', text) # Remove text in brackets
    text = re.sub(r'\w*\d\w*', '', text) # Remove words containing numbers
    text = re.sub(r'[^a-zA-Z\s]', '', text) # Remove punctuation and special characters
    text = re.sub(r'\s+', ' ', text).strip() # Remove extra whitespace
    return text

# Define our features (X) and target (y)
# APPLY THE CLEANING FUNCTION TO THE DESCRIPTION COLUMN
X = df_filtered['Description'].apply(clean_text)
y = df_filtered['labels'] # This 'labels' column is now based on our consolidated risk

# Check class distribution
print("Class distribution before splitting:")
print(y.value_counts())

# Remove stratify parameter if there are classes with only 1 sample
X_train, X_val, y_train, y_val = train_test_split(
    X, y, test_size=0.2, random_state=42
    # stratify parameter removed to avoid the error
)

print("--- Data Splitting Complete ---")
print("Training set shape:", X_train.shape)
print("Validation set shape:", X_val.shape)
print("Number of unique labels:", len(id2label))


# --- 6. Train-Validation Split (on Filtered Data) ---
from sklearn.model_selection import train_test_split
import re

# --- Action 1.2: Data Improvement - Advanced Text Cleaning ---
def clean_text(text):
    text = text.lower() # Lowercase
    text = re.sub(r'\[.*?\]', '', text) # Remove text in brackets
    text = re.sub(r'\w*\d\w*', '', text) # Remove words containing numbers
    text = re.sub(r'[^a-zA-Z\s]', '', text) # Remove punctuation and special characters
    text = re.sub(r'\s+', ' ', text).strip() # Remove extra whitespace
    return text

# Define our features (X) and target (y)
# APPLY THE CLEANING FUNCTION TO THE DESCRIPTION COLUMN
X = df_filtered['Description'].apply(clean_text)
y = df_filtered['labels'] # This 'labels' column is now based on our consolidated risk

# Check class distribution
print("Class distribution before splitting:")
print(y.value_counts())

# Remove stratify parameter if there are classes with only 1 sample
X_train, X_val, y_train, y_val = train_test_split(
    X, y, test_size=0.2, random_state=42
    # stratify parameter removed to avoid the error
)

print("--- Data Splitting Complete ---")
print("Training set shape:", X_train.shape)
print("Validation set shape:", X_val.shape)
print("Number of unique labels:", len(id2label))


from transformers import AutoTokenizer

# ---  Tokenization ---

# Load the tokenizer for DistilBERT
model_checkpoint = "roberta-base"

tokenizer = AutoTokenizer.from_pretrained(model_checkpoint)

# Tokenize the training and validation text
train_encodings = tokenizer(X_train.tolist(), truncation=True, padding=True)
val_encodings = tokenizer(X_val.tolist(), truncation=True, padding=True)

# Let's inspect the output for one example
print("--- Tokenization Complete ---")
print("\nOriginal Text:")
print(X_train.iloc[0])
print("\nTokenized Input IDs:")
print(train_encodings['input_ids'][0])


import torch

# --- 7. Create PyTorch Dataset ---
class SafetyReportDataset(torch.utils.data.Dataset):
    def __init__(self, encodings, labels):
        self.encodings = encodings
        self.labels = labels

    def __getitem__(self, idx):
        # The .items() method converts the dictionary of encodings (input_ids, attention_mask)
        # into a list of key-value pairs.
        # The dictionary comprehension then creates a new dictionary where each value
        # is converted to a PyTorch tensor.
        item = {key: torch.tensor(val[idx]) for key, val in self.encodings.items()}
        item['labels'] = torch.tensor(self.labels[idx])
        return item

    def __len__(self):
        return len(self.labels)

# Create the dataset objects for our training and validation sets
# convert y_train and y_val to lists for the dataset class
train_dataset = SafetyReportDataset(train_encodings, y_train.tolist())
val_dataset = SafetyReportDataset(val_encodings, y_val.tolist())

print("--- PyTorch Datasets Created ---")


from transformers import AutoModelForSequenceClassification

# --- 8. Load the Pre-trained Model ---

num_labels = len(id2label)

model = AutoModelForSequenceClassification.from_pretrained(
    model_checkpoint,
    num_labels=num_labels,
    id2label=id2label,
    label2id=label2id
)

print(f"--- Model Loaded: {model_checkpoint} ---")
print(f"Number of labels: {num_labels}")


from transformers import TrainingArguments, Trainer
import numpy as np
import evaluate

# --- 9. Define Training Arguments and Metrics ---

# --- A. Define the metric ---
# We will use accuracy for this task.
metric = evaluate.load("accuracy")

def compute_metrics(eval_pred):
    """This function computes accuracy during model evaluation."""
    logits, labels = eval_pred
    predictions = np.argmax(logits, axis=-1)
    return metric.compute(predictions=predictions, references=labels)


# --- B. Define Training Arguments ---
training_args = TrainingArguments(
    output_dir="./results_roberta_tuned",          # Directory where the model and checkpoints will be saved
    learning_rate=2e-5,
    num_train_epochs=5,              # Total number of training epochs
    per_device_train_batch_size=16,   # Batch size for training
    per_device_eval_batch_size=16,    # Batch size for evaluation
    warmup_steps=50,                 # Number of warmup steps for learning rate scheduler
    weight_decay=0.01,               # Strength of weight decay
    logging_dir="./logs",            # Directory for storing logs
    logging_steps=10,                # Log every 10 steps
    eval_strategy="epoch",     # Run evaluation at the end of each epoch
    save_strategy="epoch",           # Save a checkpoint at the end of each epoch
    load_best_model_at_end=True,     # Load the best model (based on loss) at the end of training
)


# --- 10. Instantiate and Run the Trainer ---

trainer = Trainer(
    model=model,
    args=training_args,
    train_dataset=train_dataset,
    eval_dataset=val_dataset,
    compute_metrics=compute_metrics,
)

# Start the training
trainer.train()


# Define a path to save the model in your Google Drive
model_save_path = "/content/drive/MyDrive/industrial_safety_project/fine-tuned-distilbert"

# Save the model and the tokenizer
trainer.save_model(model_save_path)
tokenizer.save_pretrained(model_save_path)



