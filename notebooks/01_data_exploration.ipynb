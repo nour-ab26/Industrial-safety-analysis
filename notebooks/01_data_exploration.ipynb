{
 "cells": [
  {
   "cell_type": "code",
   "execution_count": 1,
   "id": "f0684eee",
   "metadata": {},
   "outputs": [],
   "source": [
    "# Import necessary libraries\n",
    "import pandas as pd\n",
    "import matplotlib.pyplot as plt\n",
    "import seaborn as sns\n",
    "\n",
    "# Set plot style\n",
    "sns.set_style('whitegrid')"
   ]
  },
  {
   "cell_type": "code",
   "execution_count": 2,
   "id": "c19f1e90",
   "metadata": {},
   "outputs": [],
   "source": [
    "# --- 1. Load the Datasets ---\n",
    "try:\n",
    "    df1 = pd.read_csv('../data/IHMStefanini_industrial_safety_and_health_database_with_accidents_description.csv')\n",
    "    df2 = pd.read_csv('../data/IHMStefanini_industrial_safety_and_health_database.csv')\n",
    "except FileNotFoundError:\n",
    "    print(\"Error: Make sure the CSV files are in a 'data' subfolder in your project's root directory.\")\n",
    "    # Handle error or exit if files are not found\n",
    "    exit()"
   ]
  },
  {
   "cell_type": "code",
   "execution_count": 3,
   "id": "47bdedd2-8590-4197-983d-7bd0e97328e6",
   "metadata": {},
   "outputs": [
    {
     "name": "stdout",
     "output_type": "stream",
     "text": [
      "--- First DataFrame (Accident Info) ---\n",
      "   Unnamed: 0                 Data   Countries     Local Industry Sector  \\\n",
      "0           0  2016-01-01 00:00:00  Country_01  Local_01          Mining   \n",
      "1           1  2016-01-02 00:00:00  Country_02  Local_02          Mining   \n",
      "2           2  2016-01-06 00:00:00  Country_01  Local_03          Mining   \n",
      "3           3  2016-01-08 00:00:00  Country_01  Local_04          Mining   \n",
      "4           4  2016-01-10 00:00:00  Country_01  Local_04          Mining   \n",
      "\n",
      "  Accident Level Potential Accident Level Genre Employee or Third Party  \\\n",
      "0              I                       IV  Male             Third Party   \n",
      "1              I                       IV  Male                Employee   \n",
      "2              I                      III  Male    Third Party (Remote)   \n",
      "3              I                        I  Male             Third Party   \n",
      "4             IV                       IV  Male             Third Party   \n",
      "\n",
      "         Critical Risk                                        Description  \n",
      "0              Pressed  While removing the drill rod of the Jumbo 08 f...  \n",
      "1  Pressurized Systems  During the activation of a sodium sulphide pum...  \n",
      "2         Manual Tools  In the sub-station MILPO located at level +170...  \n",
      "3               Others  Being 9:45 am. approximately in the Nv. 1880 C...  \n",
      "4               Others  Approximately at 11:45 a.m. in circumstances t...  \n",
      "\n",
      "\n",
      "<class 'pandas.core.frame.DataFrame'>\n",
      "RangeIndex: 425 entries, 0 to 424\n",
      "Data columns (total 11 columns):\n",
      " #   Column                    Non-Null Count  Dtype \n",
      "---  ------                    --------------  ----- \n",
      " 0   Unnamed: 0                425 non-null    int64 \n",
      " 1   Data                      425 non-null    object\n",
      " 2   Countries                 425 non-null    object\n",
      " 3   Local                     425 non-null    object\n",
      " 4   Industry Sector           425 non-null    object\n",
      " 5   Accident Level            425 non-null    object\n",
      " 6   Potential Accident Level  425 non-null    object\n",
      " 7   Genre                     425 non-null    object\n",
      " 8   Employee or Third Party   425 non-null    object\n",
      " 9   Critical Risk             425 non-null    object\n",
      " 10  Description               425 non-null    object\n",
      "dtypes: int64(1), object(10)\n",
      "memory usage: 36.6+ KB\n",
      "None\n",
      "\n",
      "\n",
      "\n",
      "--- Second DataFrame (Severity Info) ---\n",
      "                  Data   Countries     Local Industry Sector Accident Level  \\\n",
      "0  2016-01-01 00:00:00  Country_01  Local_01          Mining              I   \n",
      "1  2016-01-02 00:00:00  Country_02  Local_02          Mining              I   \n",
      "2  2016-01-06 00:00:00  Country_01  Local_03          Mining              I   \n",
      "3  2016-01-08 00:00:00  Country_01  Local_04          Mining              I   \n",
      "4  2016-01-10 00:00:00  Country_01  Local_04          Mining             IV   \n",
      "\n",
      "  Potential Accident Level Genre  Employee ou Terceiro        Risco Critico  \n",
      "0                       IV  Male           Third Party              Pressed  \n",
      "1                       IV  Male              Employee  Pressurized Systems  \n",
      "2                      III  Male  Third Party (Remote)         Manual Tools  \n",
      "3                        I  Male           Third Party               Others  \n",
      "4                       IV  Male           Third Party               Others  \n",
      "\n",
      "\n",
      "<class 'pandas.core.frame.DataFrame'>\n",
      "RangeIndex: 439 entries, 0 to 438\n",
      "Data columns (total 9 columns):\n",
      " #   Column                    Non-Null Count  Dtype \n",
      "---  ------                    --------------  ----- \n",
      " 0   Data                      439 non-null    object\n",
      " 1   Countries                 439 non-null    object\n",
      " 2   Local                     439 non-null    object\n",
      " 3   Industry Sector           439 non-null    object\n",
      " 4   Accident Level            439 non-null    object\n",
      " 5   Potential Accident Level  439 non-null    object\n",
      " 6   Genre                     439 non-null    object\n",
      " 7   Employee ou Terceiro      439 non-null    object\n",
      " 8   Risco Critico             439 non-null    object\n",
      "dtypes: object(9)\n",
      "memory usage: 31.0+ KB\n",
      "None\n"
     ]
    }
   ],
   "source": [
    "# --- 2. Explore the Datasets Individually ---\n",
    "print(\"--- First DataFrame (Accident Info) ---\")\n",
    "print(df1.head())\n",
    "print(\"\\n\")\n",
    "print(df1.info())\n",
    "print(\"\\n\\n\")\n",
    "\n",
    "print(\"--- Second DataFrame (Severity Info) ---\")\n",
    "print(df2.head())\n",
    "print(\"\\n\")\n",
    "print(df2.info())"
   ]
  },
  {
   "cell_type": "code",
   "execution_count": 4,
   "id": "bcd4ab30-43d1-400c-8f63-4275e8bd1bc7",
   "metadata": {},
   "outputs": [],
   "source": [
    "# --- 3. Merge the Datasets ---\n",
    "# The two files don't have a common named column to join on, but they appear to be aligned by row.\n",
    "# merge them based on their index.\n",
    "# drop the 'Unnamed: 0' columns as they are just row counters.\n",
    "if \"Unnamed: 0\" in df1.columns:\n",
    "    df1 = df1.drop(\"Unnamed: 0\", axis=1)\n",
    "if \"Unnamed: 0\" in df2.columns:\n",
    "    df2 = df2.drop(\"Unnamed: 0\", axis=1)\n",
    "\n",
    "# Concatenate the dataframes horizontally\n",
    "df = pd.concat([df1.reset_index(drop=True), df2.reset_index(drop=True)], axis=1)"
   ]
  },
  {
   "cell_type": "code",
   "execution_count": 5,
   "id": "6a090f9b-25bd-4633-80e4-c3765a4f0b2d",
   "metadata": {},
   "outputs": [
    {
     "name": "stdout",
     "output_type": "stream",
     "text": [
      "\n",
      "\n",
      "--- Merged DataFrame ---\n",
      "                  Data   Countries     Local Industry Sector Accident Level  \\\n",
      "0  2016-01-01 00:00:00  Country_01  Local_01          Mining              I   \n",
      "1  2016-01-02 00:00:00  Country_02  Local_02          Mining              I   \n",
      "2  2016-01-06 00:00:00  Country_01  Local_03          Mining              I   \n",
      "3  2016-01-08 00:00:00  Country_01  Local_04          Mining              I   \n",
      "4  2016-01-10 00:00:00  Country_01  Local_04          Mining             IV   \n",
      "\n",
      "  Potential Accident Level Genre Employee or Third Party        Critical Risk  \\\n",
      "0                       IV  Male             Third Party              Pressed   \n",
      "1                       IV  Male                Employee  Pressurized Systems   \n",
      "2                      III  Male    Third Party (Remote)         Manual Tools   \n",
      "3                        I  Male             Third Party               Others   \n",
      "4                       IV  Male             Third Party               Others   \n",
      "\n",
      "                                         Description                 Data  \\\n",
      "0  While removing the drill rod of the Jumbo 08 f...  2016-01-01 00:00:00   \n",
      "1  During the activation of a sodium sulphide pum...  2016-01-02 00:00:00   \n",
      "2  In the sub-station MILPO located at level +170...  2016-01-06 00:00:00   \n",
      "3  Being 9:45 am. approximately in the Nv. 1880 C...  2016-01-08 00:00:00   \n",
      "4  Approximately at 11:45 a.m. in circumstances t...  2016-01-10 00:00:00   \n",
      "\n",
      "    Countries     Local Industry Sector Accident Level  \\\n",
      "0  Country_01  Local_01          Mining              I   \n",
      "1  Country_02  Local_02          Mining              I   \n",
      "2  Country_01  Local_03          Mining              I   \n",
      "3  Country_01  Local_04          Mining              I   \n",
      "4  Country_01  Local_04          Mining             IV   \n",
      "\n",
      "  Potential Accident Level Genre  Employee ou Terceiro        Risco Critico  \n",
      "0                       IV  Male           Third Party              Pressed  \n",
      "1                       IV  Male              Employee  Pressurized Systems  \n",
      "2                      III  Male  Third Party (Remote)         Manual Tools  \n",
      "3                        I  Male           Third Party               Others  \n",
      "4                       IV  Male           Third Party               Others  \n",
      "\n",
      "\n",
      "Merged DataFrame Info:\n",
      "<class 'pandas.core.frame.DataFrame'>\n",
      "RangeIndex: 439 entries, 0 to 438\n",
      "Data columns (total 19 columns):\n",
      " #   Column                    Non-Null Count  Dtype \n",
      "---  ------                    --------------  ----- \n",
      " 0   Data                      425 non-null    object\n",
      " 1   Countries                 425 non-null    object\n",
      " 2   Local                     425 non-null    object\n",
      " 3   Industry Sector           425 non-null    object\n",
      " 4   Accident Level            425 non-null    object\n",
      " 5   Potential Accident Level  425 non-null    object\n",
      " 6   Genre                     425 non-null    object\n",
      " 7   Employee or Third Party   425 non-null    object\n",
      " 8   Critical Risk             425 non-null    object\n",
      " 9   Description               425 non-null    object\n",
      " 10  Data                      439 non-null    object\n",
      " 11  Countries                 439 non-null    object\n",
      " 12  Local                     439 non-null    object\n",
      " 13  Industry Sector           439 non-null    object\n",
      " 14  Accident Level            439 non-null    object\n",
      " 15  Potential Accident Level  439 non-null    object\n",
      " 16  Genre                     439 non-null    object\n",
      " 17  Employee ou Terceiro      439 non-null    object\n",
      " 18  Risco Critico             439 non-null    object\n",
      "dtypes: object(19)\n",
      "memory usage: 65.3+ KB\n"
     ]
    }
   ],
   "source": [
    "# --- 4. Initial Exploration of Merged Data ---\n",
    "print(\"\\n\\n--- Merged DataFrame ---\")\n",
    "print(df.head())\n",
    "print(\"\\n\")\n",
    "print(\"Merged DataFrame Info:\")\n",
    "df.info()"
   ]
  },
  {
   "cell_type": "code",
   "execution_count": 6,
   "id": "a1403249-0cd0-4408-9f0d-96391ca5dd63",
   "metadata": {},
   "outputs": [],
   "source": [
    "# --- 1. Correcting the Data Merge ---\n",
    "import pandas as pd\n",
    "\n",
    "# Load the datasets again\n",
    "try:\n",
    "    df_desc = pd.read_csv('../data/IHMStefanini_industrial_safety_and_health_database_with_accidents_description.csv')\n",
    "    df_labels = pd.read_csv('../data/IHMStefanini_industrial_safety_and_health_database.csv')\n",
    "except FileNotFoundError:\n",
    "    print(\"Error: Make sure the CSV files are in a 'data' subfolder in your project's root directory.\")\n",
    "    exit()\n",
    "\n",
    "# From your output, it seems the label column in the second file is 'Risco Critico'.\n",
    "# Let's create a new, clean DataFrame with just the columns we need.\n",
    "# We'll take 'Description' from the first file and 'Risco Critico' from the second.\n",
    "df = pd.DataFrame({\n",
    "    'Description': df_desc['Description'],\n",
    "    'Critical Risk': df_labels['Risco Critico']  # Using the column from the second file\n",
    "})\n",
    "\n",
    "\n"
   ]
  },
  {
   "cell_type": "code",
   "execution_count": 7,
   "id": "93a9270a-f77c-49cd-b2ab-1443f601fab2",
   "metadata": {},
   "outputs": [
    {
     "name": "stdout",
     "output_type": "stream",
     "text": [
      "--- Cleaned and Combined DataFrame ---\n",
      "Shape before cleaning: (439, 2)\n"
     ]
    }
   ],
   "source": [
    "# --- 2. Data Cleaning ---\n",
    "print(\"--- Cleaned and Combined DataFrame ---\")\n",
    "print(\"Shape before cleaning:\", df.shape)\n",
    "\n",
    "# It's crucial to drop rows where either the description or the label is missing.\n",
    "# This also handles the discrepancy in the number of rows between the original files.\n",
    "df.dropna(subset=['Description', 'Critical Risk'], inplace=True)\n",
    "\n"
   ]
  },
  {
   "cell_type": "code",
   "execution_count": 8,
   "id": "b5380798-b941-45ca-affa-16969c1dd92c",
   "metadata": {},
   "outputs": [
    {
     "name": "stdout",
     "output_type": "stream",
     "text": [
      "\n",
      "Shape after cleaning: (425, 2)\n",
      "\n",
      "Cleaned DataFrame Head:\n",
      "                                         Description        Critical Risk\n",
      "0  While removing the drill rod of the Jumbo 08 f...              Pressed\n",
      "1  During the activation of a sodium sulphide pum...  Pressurized Systems\n",
      "2  In the sub-station MILPO located at level +170...         Manual Tools\n",
      "3  Being 9:45 am. approximately in the Nv. 1880 C...               Others\n",
      "4  Approximately at 11:45 a.m. in circumstances t...               Others\n"
     ]
    }
   ],
   "source": [
    "# Let's also remove any rows that might have very short, unhelpful descriptions\n",
    "df = df[df['Description'].str.len() > 20]\n",
    "\n",
    "print(\"\\nShape after cleaning:\", df.shape)\n",
    "print(\"\\nCleaned DataFrame Head:\")\n",
    "print(df.head())\n"
   ]
  },
  {
   "cell_type": "code",
   "execution_count": 9,
   "id": "2614f7ca-4967-4e7f-bade-0566057fc65a",
   "metadata": {},
   "outputs": [
    {
     "name": "stdout",
     "output_type": "stream",
     "text": [
      "\n",
      "Missing values after cleaning:\n",
      "Description      0\n",
      "Critical Risk    0\n",
      "dtype: int64\n"
     ]
    }
   ],
   "source": [
    "\n",
    "# Check for missing values to confirm our cleaning worked\n",
    "print(\"\\nMissing values after cleaning:\")\n",
    "print(df.isnull().sum())"
   ]
  },
  {
   "cell_type": "code",
   "execution_count": 10,
   "id": "9e50d93e-4df8-4c4f-a064-0ce308ea7eac",
   "metadata": {},
   "outputs": [
    {
     "name": "stdout",
     "output_type": "stream",
     "text": [
      "\n",
      "\n",
      "--- Analysis of Cleaned 'Critical Risk' Column ---\n"
     ]
    }
   ],
   "source": [
    "import matplotlib.pyplot as plt\n",
    "import seaborn as sns\n",
    "sns.set_style('whitegrid')\n",
    "\n",
    "# --- 3. Analyze the Cleaned Target Variable ---\n",
    "print(\"\\n\\n--- Analysis of Cleaned 'Critical Risk' Column ---\")"
   ]
  },
  {
   "cell_type": "code",
   "execution_count": 11,
   "id": "970aee0b-2a73-4bf5-95a4-9a036cc6db15",
   "metadata": {},
   "outputs": [
    {
     "name": "stdout",
     "output_type": "stream",
     "text": [
      "Value Counts for 'Critical Risk':\n",
      "Critical Risk\n",
      "Others                                       224\n",
      "Pressed                                       23\n",
      "Manual Tools                                  20\n",
      "Chemical substances                           17\n",
      "Pressurized Systems / Chemical Substances     15\n",
      "Venomous Animals                              14\n",
      "Projection                                    13\n",
      "Cut                                           12\n",
      "Bees                                          10\n",
      "Fall                                           9\n",
      "Vehicles and Mobile Equipment                  8\n",
      "Pressurized Systems                            7\n",
      "remains of choco                               7\n",
      "Fall prevention (same level)                   6\n",
      "Fall prevention                                6\n",
      "Suspended Loads                                6\n",
      "Liquid Metal                                   3\n",
      "Blocking and isolation of energies             3\n",
      "Power lock                                     3\n",
      "Not applicable                                 2\n",
      "Machine Protection                             2\n",
      "Electrical Shock                               2\n",
      "Projection of fragments                        2\n",
      "Poll                                           1\n",
      "Electrical installation                        1\n",
      "Confined space                                 1\n",
      "\\nNot applicable                               1\n",
      "Plates                                         1\n",
      "Traffic                                        1\n",
      "Projection/Burning                             1\n",
      "Burn                                           1\n",
      "Projection/Choco                               1\n",
      "Individual protection equipment                1\n",
      "Projection/Manual Tools                        1\n",
      "Name: count, dtype: int64\n"
     ]
    },
    {
     "data": {
      "image/png": "[encoded data removed]",
      "text/plain": [
       "<Figure size 1200x600 with 1 Axes>"
      ]
     },
     "metadata": {},
     "output_type": "display_data"
    }
   ],
   "source": [
    "# Check the unique categories and their counts\n",
    "print(\"Value Counts for 'Critical Risk':\")\n",
    "print(df['Critical Risk'].value_counts())\n",
    "\n",
    "# Visualize the distribution of the 'Critical Risk' categories\n",
    "plt.figure(figsize=(12, 6))\n",
    "sns.countplot(y=df['Critical Risk'], order = df['Critical Risk'].value_counts().index)\n",
    "plt.title('Distribution of Critical Risk Categories (Cleaned Data)')\n",
    "plt.xlabel('Number of Reports')\n",
    "plt.ylabel('Critical Risk Category')\n",
    "plt.tight_layout()\n",
    "plt.show()"
   ]
  },
  {
   "cell_type": "code",
   "execution_count": 12,
   "id": "4abe3088-1a23-4071-8276-06ea60d48f63",
   "metadata": {},
   "outputs": [
    {
     "name": "stdout",
     "output_type": "stream",
     "text": [
      "--- Label Encoding Complete ---\n",
      "Mapping of Label ID to Label Name:\n",
      "{0: '\\nNot applicable', 1: 'Bees', 2: 'Blocking and isolation of energies', 3: 'Burn', 4: 'Chemical substances', 5: 'Confined space', 6: 'Cut', 7: 'Electrical Shock', 8: 'Electrical installation', 9: 'Fall', 10: 'Fall prevention', 11: 'Fall prevention (same level)', 12: 'Individual protection equipment', 13: 'Liquid Metal', 14: 'Machine Protection', 15: 'Manual Tools', 16: 'Not applicable', 17: 'Others', 18: 'Plates', 19: 'Poll', 20: 'Power lock', 21: 'Pressed', 22: 'Pressurized Systems', 23: 'Pressurized Systems / Chemical Substances', 24: 'Projection', 25: 'Projection of fragments', 26: 'Projection/Burning', 27: 'Projection/Choco', 28: 'Projection/Manual Tools', 29: 'Suspended Loads', 30: 'Traffic', 31: 'Vehicles and Mobile Equipment', 32: 'Venomous Animals', 33: 'remains of choco'}\n",
      "\n",
      "DataFrame with new 'labels' column:\n",
      "                                         Description        Critical Risk  \\\n",
      "0  While removing the drill rod of the Jumbo 08 f...              Pressed   \n",
      "1  During the activation of a sodium sulphide pum...  Pressurized Systems   \n",
      "2  In the sub-station MILPO located at level +170...         Manual Tools   \n",
      "3  Being 9:45 am. approximately in the Nv. 1880 C...               Others   \n",
      "4  Approximately at 11:45 a.m. in circumstances t...               Others   \n",
      "\n",
      "   labels  \n",
      "0      21  \n",
      "1      22  \n",
      "2      15  \n",
      "3      17  \n",
      "4      17  \n"
     ]
    }
   ],
   "source": [
    "from sklearn.preprocessing import LabelEncoder\n",
    "\n",
    "# --- 4. Label Encoding ---\n",
    "\n",
    "# Initialize the LabelEncoder\n",
    "le = LabelEncoder()\n",
    "\n",
    "# Fit the encoder on 'Critical Risk' column and transform it into numbers\n",
    "df['labels'] = le.fit_transform(df['Critical Risk'])\n",
    "\n",
    "# It's very important to save the mapping from numbers back to the original labels\n",
    "# We'll need this later to understand the model's predictions.\n",
    "id2label = {i: label for i, label in enumerate(le.classes_)}\n",
    "label2id = {label: i for i, label in enumerate(le.classes_)}\n",
    "\n",
    "print(\"--- Label Encoding Complete ---\")\n",
    "print(\"Mapping of Label ID to Label Name:\")\n",
    "print(id2label)\n",
    "print(\"\\nDataFrame with new 'labels' column:\")\n",
    "print(df.head())"
   ]
  },
  {
   "cell_type": "code",
   "execution_count": 13,
   "id": "8f32b711-fb3c-4367-bfa5-c9cd321dfc93",
   "metadata": {
    "scrolled": true
   },
   "outputs": [
    {
     "name": "stdout",
     "output_type": "stream",
     "text": [
      "--- Value Counts of Each Class ---\n",
      "Critical Risk\n",
      "Electrical installation                        1\n",
      "Confined space                                 1\n",
      "\\nNot applicable                               1\n",
      "Plates                                         1\n",
      "Traffic                                        1\n",
      "Projection/Burning                             1\n",
      "Burn                                           1\n",
      "Projection/Choco                               1\n",
      "Poll                                           1\n",
      "Individual protection equipment                1\n",
      "Projection/Manual Tools                        1\n",
      "Machine Protection                             2\n",
      "Projection of fragments                        2\n",
      "Not applicable                                 2\n",
      "Electrical Shock                               2\n",
      "Liquid Metal                                   3\n",
      "Blocking and isolation of energies             3\n",
      "Power lock                                     3\n",
      "Fall prevention (same level)                   6\n",
      "Fall prevention                                6\n",
      "Suspended Loads                                6\n",
      "Pressurized Systems                            7\n",
      "remains of choco                               7\n",
      "Vehicles and Mobile Equipment                  8\n",
      "Fall                                           9\n",
      "Bees                                          10\n",
      "Cut                                           12\n",
      "Projection                                    13\n",
      "Venomous Animals                              14\n",
      "Pressurized Systems / Chemical Substances     15\n",
      "Chemical substances                           17\n",
      "Manual Tools                                  20\n",
      "Pressed                                       23\n",
      "Others                                       224\n",
      "Name: count, dtype: int64\n",
      "\n",
      "\n",
      "Original DataFrame shape: (425, 3)\n",
      "Filtered DataFrame shape after removing single-member classes: (414, 3)\n",
      "\n"
     ]
    }
   ],
   "source": [
    "from sklearn.model_selection import train_test_split\n",
    "\n",
    "# --- 5. Find and Filter Rare Classes to Fix Stratification ---\n",
    "\n",
    "# First, let's confirm which classes are causing the problem by looking at the counts\n",
    "print(\"--- Value Counts of Each Class ---\")\n",
    "print(df['Critical Risk'].value_counts().sort_values())\n",
    "print(\"\\n\")\n",
    "\n",
    "# A model can't learn from a single example, so we'll remove classes with fewer than 2 members.\n",
    "# Get the value counts\n",
    "value_counts = df['Critical Risk'].value_counts()\n",
    "\n",
    "# Identify the class names (the index) we want to keep\n",
    "to_keep = value_counts[value_counts > 1].index\n",
    "\n",
    "# Filter the DataFrame to only include the classes we want to keep\n",
    "df_filtered = df[df['Critical Risk'].isin(to_keep)].copy() # Use .copy() to avoid SettingWithCopyWarning\n",
    "\n",
    "# re-create the 'labels' column on the newly filtered data\n",
    "# to ensure everything is aligned.\n",
    "from sklearn.preprocessing import LabelEncoder\n",
    "le = LabelEncoder()\n",
    "df_filtered['labels'] = le.fit_transform(df_filtered['Critical Risk'])\n",
    "\n",
    "# update our label mappings\n",
    "id2label = {i: label for i, label in enumerate(le.classes_)}\n",
    "label2id = {label: i for i, label in enumerate(le.classes_)}\n",
    "\n",
    "\n",
    "print(f\"Original DataFrame shape: {df.shape}\")\n",
    "print(f\"Filtered DataFrame shape after removing single-member classes: {df_filtered.shape}\\n\")"
   ]
  },
  {
   "cell_type": "code",
   "execution_count": 14,
   "id": "62e15d1a-617d-4cb9-aec6-2ed5e573ceea",
   "metadata": {},
   "outputs": [
    {
     "name": "stdout",
     "output_type": "stream",
     "text": [
      "--- Data Splitting Complete ---\n",
      "Training set shape: (331,)\n",
      "Validation set shape: (83,)\n",
      "Number of unique labels: 23\n"
     ]
    }
   ],
   "source": [
    "# --- 6. Train-Validation Split (on Filtered Data) ---\n",
    "# Now we use our clean, filtered DataFrame\n",
    "X = df_filtered['Description']\n",
    "y = df_filtered['labels']\n",
    "\n",
    "# This will now work correctly because every class has at least 2 members\n",
    "X_train, X_val, y_train, y_val = train_test_split(\n",
    "    X, y, test_size=0.2, random_state=42, stratify=y\n",
    ")\n",
    "\n",
    "print(\"--- Data Splitting Complete ---\")\n",
    "print(\"Training set shape:\", X_train.shape)\n",
    "print(\"Validation set shape:\", X_val.shape)\n",
    "print(\"Number of unique labels:\", len(id2label))"
   ]
  },
  {
   "cell_type": "code",
   "execution_count": 15,
   "id": "e66fe263-df92-4fb0-ba62-93106277ce48",
   "metadata": {},
   "outputs": [
    {
     "name": "stderr",
     "output_type": "stream",
     "text": [
      "C:\\Users\\user\\anaconda3\\envs\\safety_project\\lib\\site-packages\\tqdm\\auto.py:21: TqdmWarning: IProgress not found. Please update jupyter and ipywidgets. See https://ipywidgets.readthedocs.io/en/stable/user_install.html\n",
      "  from .autonotebook import tqdm as notebook_tqdm\n"
     ]
    },
    {
     "name": "stdout",
     "output_type": "stream",
     "text": [
      "--- Tokenization Complete ---\n",
      "\n",
      "Original Text:\n",
      "When cutting the vegetation to open the bite, using a sickle, the assistant struck the vine twice. When the liana ruptured, the top of the branch projected against the face of the auxiliary causing the cut in the upper lip.\n",
      "\n",
      "Tokenized Input IDs:\n",
      "[101, 2043, 6276, 1996, 10072, 2000, 2330, 1996, 6805, 1010, 2478, 1037, 5305, 2571, 1010, 1996, 3353, 4930, 1996, 15351, 3807, 1012, 2043, 1996, 22393, 2532, 21766, 13876, 12165, 1010, 1996, 2327, 1997, 1996, 3589, 11310, 2114, 1996, 2227, 1997, 1996, 9830, 4786, 1996, 3013, 1999, 1996, 3356, 5423, 1012, 102, 0, 0, 0, 0, 0, 0, 0, 0, 0, 0, 0, 0, 0, 0, 0, 0, 0, 0, 0, 0, 0, 0, 0, 0, 0, 0, 0, 0, 0, 0, 0, 0, 0, 0, 0, 0, 0, 0, 0, 0, 0, 0, 0, 0, 0, 0, 0, 0, 0, 0, 0, 0, 0, 0, 0, 0, 0, 0, 0, 0, 0, 0, 0, 0, 0, 0, 0, 0, 0, 0, 0, 0, 0, 0, 0, 0, 0, 0, 0, 0, 0, 0, 0, 0, 0, 0, 0, 0, 0, 0, 0, 0, 0, 0, 0, 0, 0, 0, 0, 0, 0, 0, 0, 0, 0, 0, 0, 0, 0, 0, 0, 0, 0, 0, 0, 0, 0, 0, 0, 0, 0, 0, 0, 0, 0, 0, 0, 0, 0, 0, 0, 0, 0, 0, 0, 0, 0, 0, 0, 0, 0, 0, 0, 0, 0, 0, 0, 0, 0, 0, 0, 0, 0, 0, 0, 0, 0, 0, 0, 0, 0, 0, 0, 0, 0, 0, 0, 0]\n"
     ]
    }
   ],
   "source": [
    "from transformers import AutoTokenizer\n",
    "\n",
    "# ---  Tokenization ---\n",
    "\n",
    "# Load the tokenizer for DistilBERT\n",
    "model_checkpoint = \"distilbert-base-uncased\"\n",
    "tokenizer = AutoTokenizer.from_pretrained(model_checkpoint)\n",
    "\n",
    "# Tokenize the training and validation text\n",
    "train_encodings = tokenizer(X_train.tolist(), truncation=True, padding=True)\n",
    "val_encodings = tokenizer(X_val.tolist(), truncation=True, padding=True)\n",
    "\n",
    "# Let's inspect the output for one example\n",
    "print(\"--- Tokenization Complete ---\")\n",
    "print(\"\\nOriginal Text:\")\n",
    "print(X_train.iloc[0])\n",
    "print(\"\\nTokenized Input IDs:\")\n",
    "print(train_encodings['input_ids'][0])"
   ]
  },
  {
   "cell_type": "code",
   "execution_count": 16,
   "id": "6d0ddc98-d54e-4f32-9940-9ac15be824b2",
   "metadata": {},
   "outputs": [
    {
     "name": "stdout",
     "output_type": "stream",
     "text": [
      "--- PyTorch Datasets Created ---\n"
     ]
    }
   ],
   "source": [
    "import torch\n",
    "\n",
    "# --- 7. Create PyTorch Dataset ---\n",
    "class SafetyReportDataset(torch.utils.data.Dataset):\n",
    "    def __init__(self, encodings, labels):\n",
    "        self.encodings = encodings\n",
    "        self.labels = labels\n",
    "\n",
    "    def __getitem__(self, idx):\n",
    "        # The .items() method converts the dictionary of encodings (input_ids, attention_mask)\n",
    "        # into a list of key-value pairs.\n",
    "        # The dictionary comprehension then creates a new dictionary where each value\n",
    "        # is converted to a PyTorch tensor.\n",
    "        item = {key: torch.tensor(val[idx]) for key, val in self.encodings.items()}\n",
    "        item['labels'] = torch.tensor(self.labels[idx])\n",
    "        return item\n",
    "\n",
    "    def __len__(self):\n",
    "        return len(self.labels)\n",
    "\n",
    "# Create the dataset objects for our training and validation sets\n",
    "# convert y_train and y_val to lists for the dataset class\n",
    "train_dataset = SafetyReportDataset(train_encodings, y_train.tolist())\n",
    "val_dataset = SafetyReportDataset(val_encodings, y_val.tolist())\n",
    "\n",
    "print(\"--- PyTorch Datasets Created ---\")"
   ]
  },
  {
   "cell_type": "code",
   "execution_count": 17,
   "id": "6b6d66b7-6d7b-452d-a7f6-27f764095acb",
   "metadata": {},
   "outputs": [
    {
     "name": "stderr",
     "output_type": "stream",
     "text": [
      "Some weights of DistilBertForSequenceClassification were not initialized from the model checkpoint at distilbert-base-uncased and are newly initialized: ['classifier.bias', 'classifier.weight', 'pre_classifier.bias', 'pre_classifier.weight']\n",
      "You should probably TRAIN this model on a down-stream task to be able to use it for predictions and inference.\n"
     ]
    },
    {
     "name": "stdout",
     "output_type": "stream",
     "text": [
      "--- Model Loaded: distilbert-base-uncased ---\n",
      "Number of labels: 23\n"
     ]
    }
   ],
   "source": [
    "from transformers import AutoModelForSequenceClassification\n",
    "\n",
    "# --- 8. Load the Pre-trained Model ---\n",
    "\n",
    "num_labels = len(id2label)\n",
    "\n",
    "model = AutoModelForSequenceClassification.from_pretrained(\n",
    "    model_checkpoint,\n",
    "    num_labels=num_labels,\n",
    "    id2label=id2label,\n",
    "    label2id=label2id\n",
    ")\n",
    "\n",
    "print(f\"--- Model Loaded: {model_checkpoint} ---\")\n",
    "print(f\"Number of labels: {num_labels}\")"
   ]
  },
  {
   "cell_type": "code",
   "execution_count": 18,
   "id": "1ccbbf08-7b8c-4597-a385-617a0412c26f",
   "metadata": {},
   "outputs": [
    {
     "name": "stdout",
     "output_type": "stream",
     "text": [
      "WARNING:tensorflow:From C:\\Users\\user\\anaconda3\\envs\\safety_project\\lib\\site-packages\\tf_keras\\src\\losses.py:2976: The name tf.losses.sparse_softmax_cross_entropy is deprecated. Please use tf.compat.v1.losses.sparse_softmax_cross_entropy instead.\n",
      "\n"
     ]
    },
    {
     "ename": "TypeError",
     "evalue": "TrainingArguments.__init__() got an unexpected keyword argument 'evaluation_strategy'",
     "output_type": "error",
     "traceback": [
      "\u001b[1;31m---------------------------------------------------------------------------\u001b[0m",
      "\u001b[1;31mTypeError\u001b[0m                                 Traceback (most recent call last)",
      "Cell \u001b[1;32mIn[18], line 19\u001b[0m\n\u001b[0;32m     15\u001b[0m     \u001b[38;5;28;01mreturn\u001b[39;00m metric\u001b[38;5;241m.\u001b[39mcompute(predictions\u001b[38;5;241m=\u001b[39mpredictions, references\u001b[38;5;241m=\u001b[39mlabels)\n\u001b[0;32m     18\u001b[0m \u001b[38;5;66;03m# --- B. Define Training Arguments ---\u001b[39;00m\n\u001b[1;32m---> 19\u001b[0m training_args \u001b[38;5;241m=\u001b[39m \u001b[43mTrainingArguments\u001b[49m\u001b[43m(\u001b[49m\n\u001b[0;32m     20\u001b[0m \u001b[43m    \u001b[49m\u001b[43moutput_dir\u001b[49m\u001b[38;5;241;43m=\u001b[39;49m\u001b[38;5;124;43m\"\u001b[39;49m\u001b[38;5;124;43m./results\u001b[39;49m\u001b[38;5;124;43m\"\u001b[39;49m\u001b[43m,\u001b[49m\u001b[43m          \u001b[49m\u001b[38;5;66;43;03m# Directory where the model and checkpoints will be saved\u001b[39;49;00m\n\u001b[0;32m     21\u001b[0m \u001b[43m    \u001b[49m\u001b[43mnum_train_epochs\u001b[49m\u001b[38;5;241;43m=\u001b[39;49m\u001b[38;5;241;43m3\u001b[39;49m\u001b[43m,\u001b[49m\u001b[43m              \u001b[49m\u001b[38;5;66;43;03m# Total number of training epochs\u001b[39;49;00m\n\u001b[0;32m     22\u001b[0m \u001b[43m    \u001b[49m\u001b[43mper_device_train_batch_size\u001b[49m\u001b[38;5;241;43m=\u001b[39;49m\u001b[38;5;241;43m8\u001b[39;49m\u001b[43m,\u001b[49m\u001b[43m   \u001b[49m\u001b[38;5;66;43;03m# Batch size for training\u001b[39;49;00m\n\u001b[0;32m     23\u001b[0m \u001b[43m    \u001b[49m\u001b[43mper_device_eval_batch_size\u001b[49m\u001b[38;5;241;43m=\u001b[39;49m\u001b[38;5;241;43m8\u001b[39;49m\u001b[43m,\u001b[49m\u001b[43m    \u001b[49m\u001b[38;5;66;43;03m# Batch size for evaluation\u001b[39;49;00m\n\u001b[0;32m     24\u001b[0m \u001b[43m    \u001b[49m\u001b[43mwarmup_steps\u001b[49m\u001b[38;5;241;43m=\u001b[39;49m\u001b[38;5;241;43m50\u001b[39;49m\u001b[43m,\u001b[49m\u001b[43m                 \u001b[49m\u001b[38;5;66;43;03m# Number of warmup steps for learning rate scheduler\u001b[39;49;00m\n\u001b[0;32m     25\u001b[0m \u001b[43m    \u001b[49m\u001b[43mweight_decay\u001b[49m\u001b[38;5;241;43m=\u001b[39;49m\u001b[38;5;241;43m0.01\u001b[39;49m\u001b[43m,\u001b[49m\u001b[43m               \u001b[49m\u001b[38;5;66;43;03m# Strength of weight decay\u001b[39;49;00m\n\u001b[0;32m     26\u001b[0m \u001b[43m    \u001b[49m\u001b[43mlogging_dir\u001b[49m\u001b[38;5;241;43m=\u001b[39;49m\u001b[38;5;124;43m\"\u001b[39;49m\u001b[38;5;124;43m./logs\u001b[39;49m\u001b[38;5;124;43m\"\u001b[39;49m\u001b[43m,\u001b[49m\u001b[43m            \u001b[49m\u001b[38;5;66;43;03m# Directory for storing logs\u001b[39;49;00m\n\u001b[0;32m     27\u001b[0m \u001b[43m    \u001b[49m\u001b[43mlogging_steps\u001b[49m\u001b[38;5;241;43m=\u001b[39;49m\u001b[38;5;241;43m10\u001b[39;49m\u001b[43m,\u001b[49m\u001b[43m                \u001b[49m\u001b[38;5;66;43;03m# Log every 10 steps\u001b[39;49;00m\n\u001b[0;32m     28\u001b[0m \u001b[43m    \u001b[49m\u001b[43mevaluation_strategy\u001b[49m\u001b[38;5;241;43m=\u001b[39;49m\u001b[38;5;124;43m\"\u001b[39;49m\u001b[38;5;124;43mepoch\u001b[39;49m\u001b[38;5;124;43m\"\u001b[39;49m\u001b[43m,\u001b[49m\u001b[43m     \u001b[49m\u001b[38;5;66;43;03m# Run evaluation at the end of each epoch\u001b[39;49;00m\n\u001b[0;32m     29\u001b[0m \u001b[43m    \u001b[49m\u001b[43msave_strategy\u001b[49m\u001b[38;5;241;43m=\u001b[39;49m\u001b[38;5;124;43m\"\u001b[39;49m\u001b[38;5;124;43mepoch\u001b[39;49m\u001b[38;5;124;43m\"\u001b[39;49m\u001b[43m,\u001b[49m\u001b[43m           \u001b[49m\u001b[38;5;66;43;03m# Save a checkpoint at the end of each epoch\u001b[39;49;00m\n\u001b[0;32m     30\u001b[0m \u001b[43m    \u001b[49m\u001b[43mload_best_model_at_end\u001b[49m\u001b[38;5;241;43m=\u001b[39;49m\u001b[38;5;28;43;01mTrue\u001b[39;49;00m\u001b[43m,\u001b[49m\u001b[43m     \u001b[49m\u001b[38;5;66;43;03m# Load the best model (based on loss) at the end of training\u001b[39;49;00m\n\u001b[0;32m     31\u001b[0m \u001b[43m)\u001b[49m\n",
      "\u001b[1;31mTypeError\u001b[0m: TrainingArguments.__init__() got an unexpected keyword argument 'evaluation_strategy'"
     ]
    }
   ],
   "source": [
    "from transformers import TrainingArguments, Trainer\n",
    "import numpy as np\n",
    "import evaluate\n",
    "\n",
    "# --- 9. Define Training Arguments and Metrics ---\n",
    "\n",
    "# --- A. Define the metric ---\n",
    "# We will use accuracy for this task.\n",
    "metric = evaluate.load(\"accuracy\")\n",
    "\n",
    "def compute_metrics(eval_pred):\n",
    "    \"\"\"This function computes accuracy during model evaluation.\"\"\"\n",
    "    logits, labels = eval_pred\n",
    "    predictions = np.argmax(logits, axis=-1)\n",
    "    return metric.compute(predictions=predictions, references=labels)\n",
    "\n",
    "\n",
    "# --- B. Define Training Arguments ---\n",
    "training_args = TrainingArguments(\n",
    "    output_dir=\"./results\",          # Directory where the model and checkpoints will be saved\n",
    "    num_train_epochs=3,              # Total number of training epochs\n",
    "    per_device_train_batch_size=8,   # Batch size for training\n",
    "    per_device_eval_batch_size=8,    # Batch size for evaluation\n",
    "    warmup_steps=50,                 # Number of warmup steps for learning rate scheduler\n",
    "    weight_decay=0.01,               # Strength of weight decay\n",
    "    logging_dir=\"./logs\",            # Directory for storing logs\n",
    "    logging_steps=10,                # Log every 10 steps\n",
    "    evaluation_strategy=\"epoch\",     # Run evaluation at the end of each epoch\n",
    "    save_strategy=\"epoch\",           # Save a checkpoint at the end of each epoch\n",
    "    load_best_model_at_end=True,     # Load the best model (based on loss) at the end of training\n",
    ")"
   ]
  },
  {
   "cell_type": "code",
   "execution_count": null,
   "id": "a5783310-6b53-45d9-8e53-ab8f17f2a222",
   "metadata": {},
   "outputs": [],
   "source": [
    "# --- 10. Instantiate and Run the Trainer ---\n",
    "\n",
    "trainer = Trainer(\n",
    "    model=model,\n",
    "    args=training_args,\n",
    "    train_dataset=train_dataset,\n",
    "    eval_dataset=val_dataset,\n",
    "    compute_metrics=compute_metrics,\n",
    ")\n",
    "\n",
    "# Start the training\n",
    "trainer.train()"
   ]
  }
 ],
 "metadata": {
  "kernelspec": {
   "display_name": "final_env",
   "language": "python",
   "name": "python3"
  },
  "language_info": {
   "codemirror_mode": {
    "name": "ipython",
    "version": 3
   },
   "file_extension": ".py",
   "mimetype": "text/x-python",
   "name": "python",
   "nbconvert_exporter": "python",
   "pygments_lexer": "ipython3",
   "version": "3.12.3"
  }
 },
 "nbformat": 4,
 "nbformat_minor": 5
}
